{
 "cells": [
  {
   "cell_type": "code",
   "execution_count": 2,
   "metadata": {},
   "outputs": [
    {
     "name": "stdout",
     "output_type": "stream",
     "text": [
      "Title: To Kill a Mockingbird, Author: Harper Lee, Publication Year: 196\n",
      "Title: 1984, Author: George Orwell, Publication Year: 194\n"
     ]
    }
   ],
   "source": [
    "class Book:\n",
    "\n",
    "    def __init__(self, title, author, publication_year, available_copies):\n",
    "        self.title = title\n",
    "        self.author = author\n",
    "        self.publication_year = publication_year\n",
    "        self.available_copies = available_copies\n",
    "\n",
    "    def __str__(self):\n",
    "        return f\"Title: {self.title}, Author: {self.author}, Publication Year: {self.publication_year}\"\n",
    "    \n",
    "    def getTitle(self):\n",
    "        return str(self.title)\n",
    "    \n",
    "    def setTitle(self, title):\n",
    "        self.title = title\n",
    "\n",
    "\n",
    "book1 = Book(\"To Kill a Mockingbird\", \"Harper Lee\", 196, 24)\n",
    "book2 = Book(\"1984\", \"George Orwell\", 194, 13)\n",
    "print(book1)\n",
    "print(book2)"
   ]
  },
  {
   "cell_type": "code",
   "execution_count": null,
   "metadata": {},
   "outputs": [],
   "source": [
    "class person:\n",
    "\n",
    "    def__init__(self, fname, lname):"
   ]
  }
 ],
 "metadata": {
  "kernelspec": {
   "display_name": "Python 3",
   "language": "python",
   "name": "python3"
  },
  "language_info": {
   "codemirror_mode": {
    "name": "ipython",
    "version": 3
   },
   "file_extension": ".py",
   "mimetype": "text/x-python",
   "name": "python",
   "nbconvert_exporter": "python",
   "pygments_lexer": "ipython3",
   "version": "3.12.5"
  }
 },
 "nbformat": 4,
 "nbformat_minor": 2
}
