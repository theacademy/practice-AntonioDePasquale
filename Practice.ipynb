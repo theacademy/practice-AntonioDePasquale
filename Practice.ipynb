{
 "cells": [
  {
   "cell_type": "markdown",
   "metadata": {},
   "source": [
    "## Python Day 1"
   ]
  },
  {
   "cell_type": "code",
   "execution_count": null,
   "metadata": {},
   "outputs": [],
   "source": [
    "# comment\n",
    "\n",
    "\"\"\"\n",
    "This\n",
    "is\n",
    "a\n",
    "multi-line\n",
    "comment\n",
    "\"\"\"\n",
    "\n",
    "import sys\n",
    "import math\n",
    "# from math import cos\n",
    "\n",
    "print(\"Hello World!\")\n",
    "\n",
    "print(sys.version)\n",
    "\n",
    "print(math.sqrt(81))"
   ]
  },
  {
   "cell_type": "code",
   "execution_count": 4,
   "metadata": {},
   "outputs": [
    {
     "name": "stdout",
     "output_type": "stream",
     "text": [
      "yep\n"
     ]
    }
   ],
   "source": [
    "# Syntax Code blocks\n",
    "\n",
    "if 5 < 2:\n",
    "    print(\"nope\")\n",
    "else:\n",
    "    print(\"yep\")"
   ]
  },
  {
   "cell_type": "code",
   "execution_count": 8,
   "metadata": {},
   "outputs": [
    {
     "name": "stdout",
     "output_type": "stream",
     "text": [
      "This is a test 5\n"
     ]
    }
   ],
   "source": [
    "# Variables\n",
    "\n",
    "x = 5\n",
    "y = 4.2\n",
    "z = False\n",
    "\n",
    "# x = \"Sam\"\n",
    "\n",
    "print(f\"This is a test {x}\")"
   ]
  },
  {
   "cell_type": "code",
   "execution_count": 11,
   "metadata": {},
   "outputs": [
    {
     "name": "stdout",
     "output_type": "stream",
     "text": [
      "Orange Apple Banana\n"
     ]
    }
   ],
   "source": [
    "# more tests\n",
    "\n",
    "fruits = [\"Orange\", \"Apple\", \"Banana\"]\n",
    "x, y, z = fruits\n",
    "\n",
    "print(x,y,z)"
   ]
  },
  {
   "cell_type": "code",
   "execution_count": 14,
   "metadata": {},
   "outputs": [
    {
     "name": "stdout",
     "output_type": "stream",
     "text": [
      "Python is awesome\n",
      "Python is cool\n"
     ]
    }
   ],
   "source": [
    "# Variables and Scope\n",
    "\n",
    "x = 'cool'\n",
    "\n",
    "def myMethod():\n",
    "    # global x\n",
    "    x = 'awesome'\n",
    "    print('Python is ' + x)\n",
    "\n",
    "myMethod()\n",
    "print('Python is ' + x)"
   ]
  },
  {
   "cell_type": "code",
   "execution_count": null,
   "metadata": {},
   "outputs": [],
   "source": []
  },
  {
   "cell_type": "code",
   "execution_count": 21,
   "metadata": {},
   "outputs": [
    {
     "name": "stdout",
     "output_type": "stream",
     "text": [
      "John Lennon\n",
      "George Harrison\n",
      "Ringo Starr\n",
      "Paul McCartney\n"
     ]
    }
   ],
   "source": [
    "# Code Challenge\n",
    "\n",
    "w = \"lennon, john\"\n",
    "x = \"harrison, george\"\n",
    "y = \"starr, ringo\"\n",
    "z = \"mccartney, paul\"\n",
    "\n",
    "def nameReversal(name):\n",
    "    splitName = name.split(\", \")\n",
    "    \n",
    "    # Capitalise the first letter\n",
    "    splitName = [capitaliseMc(n) for n in splitName]\n",
    "\n",
    "    # Reverse the names\n",
    "    newName = splitName[::-1]\n",
    "\n",
    "    # Join the names \n",
    "    return \" \".join(newName)\n",
    "\n",
    "\n",
    "# function to capitalise the \"c\" after \"mc\" for mcc names\n",
    "def capitaliseMc(name):\n",
    "    if name.lower().startswith(\"mc\"):\n",
    "        return \"Mc\" + name[2:].capitalize()\n",
    "    return name.capitalize()\n",
    "\n",
    "print(nameReversal(w))\n",
    "print(nameReversal(x))\n",
    "print(nameReversal(y))\n",
    "print(nameReversal(z))"
   ]
  },
  {
   "cell_type": "code",
   "execution_count": 28,
   "metadata": {},
   "outputs": [
    {
     "name": "stdout",
     "output_type": "stream",
     "text": [
      "1010\n",
      "10101010\n"
     ]
    }
   ],
   "source": [
    "# 10 and 170 test cases num to binary\n",
    "\n",
    "# Example logic using 12\n",
    "# 12 : 2 = 6(quotient) + 0(remainder)\n",
    "# 6 : 2 = 3(quotient) + 0(remainder)\n",
    "# 3 : 2 = 1(quotient) + 1(remainder)\n",
    "# 1 : 2 = 0(quotient) + 1(remainder)\n",
    "\n",
    "def numToBinary(num):\n",
    "    binaryString = \"\"\n",
    "    \n",
    "    if num == 0:\n",
    "        return \"0\"\n",
    "    \n",
    "    while num > 0:\n",
    "        remainder = num % 2\n",
    "        binaryString = str(remainder) + binaryString\n",
    "        num = num // 2\n",
    "    \n",
    "    return binaryString\n",
    "\n",
    "print(numToBinary(10))\n",
    "print(numToBinary(170))"
   ]
  },
  {
   "cell_type": "code",
   "execution_count": 31,
   "metadata": {},
   "outputs": [
    {
     "name": "stdout",
     "output_type": "stream",
     "text": [
      "[1, 3, 7, 21]\n",
      "[1, 2, 4, 5, 10, 20, 25, 50, 100]\n"
     ]
    }
   ],
   "source": [
    "# Method that shows all the factors of a number once.\n",
    "\n",
    "def getFactors(n):\n",
    "    factors = []\n",
    "    \n",
    "    for num in range(1, n + 1):\n",
    "        if n % num == 0:\n",
    "            factors.append(num)\n",
    "    \n",
    "    return factors\n",
    "\n",
    "print(getFactors(21))\n",
    "print(getFactors(100))"
   ]
  },
  {
   "cell_type": "code",
   "execution_count": 42,
   "metadata": {},
   "outputs": [
    {
     "name": "stdout",
     "output_type": "stream",
     "text": [
      "Original string: Remove all the vowels please\n",
      "Rmv ll th vwls pls\n"
     ]
    }
   ],
   "source": [
    "# take in a string and remove all the vowels\n",
    "\n",
    "def removeVowels(string):\n",
    "    vowels = ['a', 'e', 'i', 'o', 'u']\n",
    "    newString = \"\"\n",
    "\n",
    "    print(f\"Original string: {string}\")\n",
    "    \n",
    "    for char in string:\n",
    "        if char.lower() not in vowels:\n",
    "            newString += char\n",
    "\n",
    "    return newString\n",
    "\n",
    "print(removeVowels(\"Remove all the vowels please\"))"
   ]
  },
  {
   "cell_type": "code",
   "execution_count": 47,
   "metadata": {},
   "outputs": [
    {
     "name": "stdout",
     "output_type": "stream",
     "text": [
      "XXXIV\n",
      "LXVII\n",
      "C\n"
     ]
    }
   ],
   "source": [
    "# write a method that converts integers to roman numerals to 1000\n",
    "\n",
    "def intToRomanNumeral(num):\n",
    "    numeralDictionary = {\n",
    "        'M': 1000,\n",
    "        'C': 100,\n",
    "        'XC': 90,\n",
    "        'L': 50,\n",
    "        'XL': 40,\n",
    "        'X': 10,\n",
    "        'IX': 9,\n",
    "        'V': 5,\n",
    "        'IV': 4,\n",
    "        'I': 1\n",
    "    }\n",
    "\n",
    "    romanNumeral = \"\"\n",
    "\n",
    "    for key, value in numeralDictionary.items():\n",
    "        while num >= value:\n",
    "            romanNumeral += key\n",
    "            num -= value\n",
    "    \n",
    "    return romanNumeral\n",
    "\n",
    "# Testing the function\n",
    "print(intToRomanNumeral(34))\n",
    "print(intToRomanNumeral(67))\n",
    "print(intToRomanNumeral(100))\n"
   ]
  },
  {
   "cell_type": "code",
   "execution_count": 9,
   "metadata": {},
   "outputs": [
    {
     "name": "stdout",
     "output_type": "stream",
     "text": [
      "beef\n",
      "Incorrect patty type, please ask again\n"
     ]
    }
   ],
   "source": [
    "from enum import Enum\n",
    " \n",
    "class FoodItem:\n",
    "        def __init__(self,price,allergen=[]):\n",
    "            self.price = price\n",
    "            self.allergen = allergen\n",
    "     \n",
    "class Burger(FoodItem):\n",
    "        def __init__(self,price,allergen,patty_type):\n",
    "            super().__init__(price,allergen)\n",
    "            self.patty_type = self.test_patty(patty_type)\n",
    "\n",
    "        def test_patty(self,patty_type):\n",
    "            patty_list = [\"beef\", \"chicken\", \"fish\"]\n",
    "            if patty_type.lower() in patty_list:\n",
    "                return patty_type\n",
    "            else:\n",
    "                return \"Incorrect patty type, please ask again\"\n",
    "            \n",
    "\n",
    "goodBurger = Burger(5.99, [\"gluten\"], \"beef\")\n",
    "print(goodBurger.patty_type)\n",
    "\n",
    "badBurger = Burger(5.99, [\"gluten\"], \"toenails\")\n",
    "print(badBurger.patty_type)\n",
    "\n"
   ]
  }
 ],
 "metadata": {
  "kernelspec": {
   "display_name": "Python 3",
   "language": "python",
   "name": "python3"
  },
  "language_info": {
   "codemirror_mode": {
    "name": "ipython",
    "version": 3
   },
   "file_extension": ".py",
   "mimetype": "text/x-python",
   "name": "python",
   "nbconvert_exporter": "python",
   "pygments_lexer": "ipython3",
   "version": "3.12.5"
  }
 },
 "nbformat": 4,
 "nbformat_minor": 2
}
