{
 "cells": [
  {
   "cell_type": "markdown",
   "metadata": {},
   "source": [
    "## Python Day 1"
   ]
  },
  {
   "cell_type": "code",
   "execution_count": null,
   "metadata": {},
   "outputs": [],
   "source": [
    "# comment\n",
    "\n",
    "\"\"\"\n",
    "This\n",
    "is\n",
    "a\n",
    "multi-line\n",
    "comment\n",
    "\"\"\"\n",
    "\n",
    "import sys\n",
    "import math\n",
    "# from math import cos\n",
    "\n",
    "print(\"Hello World!\")\n",
    "\n",
    "print(sys.version)\n",
    "\n",
    "print(math.sqrt(81))"
   ]
  },
  {
   "cell_type": "code",
   "execution_count": 4,
   "metadata": {},
   "outputs": [
    {
     "name": "stdout",
     "output_type": "stream",
     "text": [
      "yep\n"
     ]
    }
   ],
   "source": [
    "# Syntax Code blocks\n",
    "\n",
    "if 5 < 2:\n",
    "    print(\"nope\")\n",
    "else:\n",
    "    print(\"yep\")"
   ]
  },
  {
   "cell_type": "code",
   "execution_count": 8,
   "metadata": {},
   "outputs": [
    {
     "name": "stdout",
     "output_type": "stream",
     "text": [
      "This is a test 5\n"
     ]
    }
   ],
   "source": [
    "# Variables\n",
    "\n",
    "x = 5\n",
    "y = 4.2\n",
    "z = False\n",
    "\n",
    "# x = \"Sam\"\n",
    "\n",
    "print(f\"This is a test {x}\")"
   ]
  },
  {
   "cell_type": "code",
   "execution_count": 11,
   "metadata": {},
   "outputs": [
    {
     "name": "stdout",
     "output_type": "stream",
     "text": [
      "Orange Apple Banana\n"
     ]
    }
   ],
   "source": [
    "# more tests\n",
    "\n",
    "fruits = [\"Orange\", \"Apple\", \"Banana\"]\n",
    "x, y, z = fruits\n",
    "\n",
    "print(x,y,z)"
   ]
  },
  {
   "cell_type": "code",
   "execution_count": 14,
   "metadata": {},
   "outputs": [
    {
     "name": "stdout",
     "output_type": "stream",
     "text": [
      "Python is awesome\n",
      "Python is cool\n"
     ]
    }
   ],
   "source": [
    "# Variables and Scope\n",
    "\n",
    "x = 'cool'\n",
    "\n",
    "def myMethod():\n",
    "    # global x\n",
    "    x = 'awesome'\n",
    "    print('Python is ' + x)\n",
    "\n",
    "myMethod()\n",
    "print('Python is ' + x)"
   ]
  },
  {
   "cell_type": "code",
   "execution_count": 20,
   "metadata": {},
   "outputs": [
    {
     "name": "stdout",
     "output_type": "stream",
     "text": [
      "John Lennon\n",
      "George Harrison\n",
      "Ringo Starr\n",
      "Paul McCartney\n"
     ]
    }
   ],
   "source": [
    "# Code Challenge\n",
    "\n",
    "w = \"lennon, john\"\n",
    "x = \"harrison, george\"\n",
    "y = \"starr, ringo\"\n",
    "z = \"mccartney, paul\"\n",
    "\n",
    "def nameReversal(name):\n",
    "    splitName = name.split(\", \")\n",
    "    \n",
    "    # Capitalize the first letter\n",
    "    splitName = [capitaliseMc(n) for n in splitName]\n",
    "\n",
    "    # Reverse the names\n",
    "    newName = splitName[::-1]\n",
    "\n",
    "    # Join the names \n",
    "    return \" \".join(newName)\n",
    "\n",
    "\n",
    "# function to capilatlise the \"c\" after \"mc\" for mcc names\n",
    "def capitaliseMc(name):\n",
    "    if name.lower().startswith(\"mc\"):\n",
    "        return \"Mc\" + name[2:].capitalize()\n",
    "    return name.capitalize()\n",
    "\n",
    "print(nameReversal(w))\n",
    "print(nameReversal(x))\n",
    "print(nameReversal(y))\n",
    "print(nameReversal(z))"
   ]
  }
 ],
 "metadata": {
  "kernelspec": {
   "display_name": "Python 3",
   "language": "python",
   "name": "python3"
  },
  "language_info": {
   "codemirror_mode": {
    "name": "ipython",
    "version": 3
   },
   "file_extension": ".py",
   "mimetype": "text/x-python",
   "name": "python",
   "nbconvert_exporter": "python",
   "pygments_lexer": "ipython3",
   "version": "3.12.5"
  }
 },
 "nbformat": 4,
 "nbformat_minor": 2
}
